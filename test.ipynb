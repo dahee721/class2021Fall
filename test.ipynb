{
  "nbformat": 4,
  "nbformat_minor": 0,
  "metadata": {
    "colab": {
      "name": "test.ipynb",
      "provenance": [],
      "authorship_tag": "ABX9TyMm5jYeK2UgMBbkpam4kIGe",
      "include_colab_link": true
    },
    "kernelspec": {
      "name": "python3",
      "display_name": "Python 3"
    },
    "language_info": {
      "name": "python"
    }
  },
  "cells": [
    {
      "cell_type": "markdown",
      "metadata": {
        "id": "view-in-github",
        "colab_type": "text"
      },
      "source": [
        "<a href=\"https://colab.research.google.com/github/dahee721/class2021Fall/blob/main/test.ipynb\" target=\"_parent\"><img src=\"https://colab.research.google.com/assets/colab-badge.svg\" alt=\"Open In Colab\"/></a>"
      ]
    },
    {
      "cell_type": "markdown",
      "metadata": {
        "id": "xVxnCW8293bh"
      },
      "source": [
        "제일 처음 해보는 코딩입니다. \n"
      ]
    },
    {
      "cell_type": "markdown",
      "metadata": {
        "id": "b0i9qbZR-OHy"
      },
      "source": [
        "변수 (variables), 제어문 (syntax), 함수"
      ]
    },
    {
      "cell_type": "code",
      "metadata": {
        "colab": {
          "base_uri": "https://localhost:8080/"
        },
        "id": "WW4vdjnu-ZTK",
        "outputId": "678dfa1a-3fcf-4005-c1be-2c5ae98a73b8"
      },
      "source": [
        "a= 1\n",
        "b= 1.1\n",
        "c= 'hello'\n",
        "d={1, 'abc', 2.1}\n",
        "\n",
        "#print(a)\n",
        "#print(b)\n",
        "#여기는 실행이 되지 않습니다.\n",
        "\n",
        "print(type(a))\n",
        "print(type(b))\n",
        "print(type(c))\n",
        "print(type(d))\n"
      ],
      "execution_count": 9,
      "outputs": [
        {
          "output_type": "stream",
          "name": "stdout",
          "text": [
            "<class 'int'>\n",
            "<class 'float'>\n",
            "<class 'str'>\n",
            "<class 'set'>\n"
          ]
        }
      ]
    }
  ]
}